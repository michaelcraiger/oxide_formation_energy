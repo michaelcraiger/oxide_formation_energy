{
 "cells": [
  {
   "cell_type": "markdown",
   "metadata": {},
   "source": [
    "# This tests the similarity metric for Figure 7.1"
   ]
  },
  {
   "cell_type": "code",
   "execution_count": 1,
   "metadata": {},
   "outputs": [],
   "source": [
    "import pickle\n",
    "import numpy as np\n",
    "import matplotlib.pyplot as plt\n",
    "\n",
    "from collections import defaultdict\n"
   ]
  },
  {
   "cell_type": "code",
   "execution_count": 4,
   "metadata": {},
   "outputs": [],
   "source": [
    "binary_data = pickle.load(open(\"binary_oxide_data_form_ene_self_calc_fingerprints.p\", \"rb\"))\n",
    "unary_data = pickle.load(open(\"unary_oxide_data_self_calc.p\", \"rb\"))\n",
    "\n",
    "similarity_metric = 0.5\n",
    "coarse_predictions = []\n",
    "y = []\n",
    "matched_binaries = []\n",
    "element2ox_change = defaultdict(list)\n",
    "element2stabilization = defaultdict(list)\n",
    "\n",
    "maes = []\n",
    "similarity_metrics = np.linspace(0.1, 1.5, 15)\n",
    "for similarity_metric in similarity_metrics:\n",
    "    coarse_predictions = []\n",
    "    y = []\n",
    "    matched_binaries = []\n",
    "\n",
    "    for combination in binary_data:\n",
    "        element1, element2 = combination.split(\"_\")\n",
    "        if element1 not in unary_data.keys() or element2 not in unary_data.keys():\n",
    "            continue\n",
    "        for binary_index, binary_fingerprint in enumerate(binary_data[combination]['fingerprints']):\n",
    "            binary_structure = binary_data[combination]['structures'][binary_index]\n",
    "            amount_ele1 = binary_structure.composition.as_dict()[element1]\n",
    "            amount_ele2 = binary_structure.composition.as_dict()[element2]\n",
    "            amount_o = binary_structure.composition.as_dict()[\"O\"]\n",
    "            o_proportion = amount_o/(amount_o+amount_ele2+amount_ele1)\n",
    "            if o_proportion<(2/3):\n",
    "                # ONLY MO2 or higher stoichiometric O ratio\n",
    "                continue\n",
    "            for unary_element1_index, unary1_fingerprint in enumerate(unary_data[element1]['fingerprints']):\n",
    "                for unary_element2_index, unary2_fingerprint in enumerate(unary_data[element2]['fingerprints']):\n",
    "                    # only try to make a prediction if each compared oxide is 'similar' as defined by the similarity metric\n",
    "                    difference_1 = np.linalg.norm(binary_fingerprint - unary1_fingerprint)\n",
    "                    difference_2 = np.linalg.norm(binary_fingerprint - unary2_fingerprint)\n",
    "                    difference_3 = np.linalg.norm(unary1_fingerprint - unary2_fingerprint)\n",
    "                    if difference_1<similarity_metric and difference_2<similarity_metric and difference_3<similarity_metric:                    \n",
    "                        ratio = amount_ele1/(amount_ele1+amount_ele2)\n",
    "\n",
    "                        # grabs the energy at V=1.6\n",
    "                        stability_ele1 = unary_data[element1]['energies'][unary_element1_index][6]\n",
    "                        stability_ele2 = unary_data[element2]['energies'][unary_element2_index][6]\n",
    "                        \n",
    "                        stability_ele1 = unary_data[element1]['formation_energies'][unary_element1_index]\n",
    "                        stability_ele2 = unary_data[element2]['formation_energies'][unary_element2_index]\n",
    "                        \n",
    "                        pred = ratio*stability_ele1 + (1-ratio)*stability_ele2\n",
    "                        true_stability = binary_data[combination]['formation_energies'][binary_index]\n",
    "                        \n",
    "                        y.append(true_stability) \n",
    "                        coarse_predictions.append(pred)\n",
    "\n",
    "    mae = np.mean(abs(np.asarray(y)-np.asarray(coarse_predictions)))\n",
    "    maes.append(mae)\n",
    "\n"
   ]
  },
  {
   "cell_type": "code",
   "execution_count": 5,
   "metadata": {},
   "outputs": [
    {
     "data": {
      "image/png": "[encoded data removed]",
      "text/plain": [
       "<Figure size 432x288 with 1 Axes>"
      ]
     },
     "metadata": {
      "needs_background": "light"
     },
     "output_type": "display_data"
    }
   ],
   "source": [
    "plt.plot(similarity_metrics, maes, 'o')\n",
    "plt.xlabel(\"Similarity threshold, $d$\")\n",
    "plt.ylabel(\"Error (eV/atom)\")\n"
   ]
  },
  {
   "cell_type": "code",
   "execution_count": null,
   "metadata": {},
   "outputs": [],
   "source": []
  }
 ],
 "metadata": {
  "kernelspec": {
   "display_name": "acid_stable_pbx",
   "language": "python",
   "name": "acid_stable_pbx"
  },
  "language_info": {
   "codemirror_mode": {
    "name": "ipython",
    "version": 3
   },
   "file_extension": ".py",
   "mimetype": "text/x-python",
   "name": "python",
   "nbconvert_exporter": "python",
   "pygments_lexer": "ipython3",
   "version": "3.8.12"
  }
 },
 "nbformat": 4,
 "nbformat_minor": 4
}
